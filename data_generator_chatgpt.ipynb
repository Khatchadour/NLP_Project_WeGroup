{
 "cells": [
  {
   "cell_type": "code",
   "execution_count": null,
   "id": "30b596d0",
   "metadata": {},
   "outputs": [],
   "source": [
    "import openai\n",
    "import os\n",
    "import pytesseract\n",
    "import cv2\n",
    "from pdf2image import convert_from_path\n",
    "import numpy as np \n",
    "import random\n",
    "import time \n",
    "import regex as re\n",
    "import pickle "
   ]
  },
  {
   "cell_type": "code",
   "execution_count": null,
   "id": "691f2627",
   "metadata": {},
   "outputs": [],
   "source": [
    "!pip install python-dotenv\n"
   ]
  },
  {
   "cell_type": "code",
   "execution_count": null,
   "id": "48e66bee",
   "metadata": {},
   "outputs": [],
   "source": [
    "from dotenv import load_dotenv, find_dotenv\n",
    "_ = load_dotenv(find_dotenv()) # read local .env file\n",
    "openai.api_key  = \"API-KEY\""
   ]
  },
  {
   "cell_type": "code",
   "execution_count": null,
   "id": "9c213eb8",
   "metadata": {},
   "outputs": [],
   "source": [
    "def get_completion(prompt, model=\"gpt-3.5-turbo\"): # Andrew mentioned that the prompt/ completion paradigm is preferable for this class\n",
    "    messages = [{\"role\": \"user\", \"content\": prompt}]\n",
    "    response = openai.ChatCompletion.create(\n",
    "        model=model,\n",
    "        messages=messages,\n",
    "        temperature=0, # this is the degree of randomness of the model's output\n",
    "    )\n",
    "    return response.choices[0].message[\"content\"]\n"
   ]
  },
  {
   "cell_type": "code",
   "execution_count": null,
   "id": "94388acb",
   "metadata": {},
   "outputs": [],
   "source": [
    "def get_examples(samples):\n",
    "    \n",
    "    \"\"\"\n",
    "    Concatenate the examples into a single string of text, where each example is delimeted by <(< >)>\n",
    "    \n",
    "    \"\"\"\n",
    "    text = ''  \n",
    "    i = 1\n",
    "    for sample in samples:\n",
    "\n",
    "        text = text + ' Document Example  '+str(i)+'\\n <(<  \\n' + sample +' >)> \\n\\n'\n",
    "        i+=1\n",
    "    return text"
   ]
  },
  {
   "cell_type": "code",
   "execution_count": null,
   "id": "3aa3180c",
   "metadata": {},
   "outputs": [],
   "source": [
    "def get_prompt(text):\n",
    "    \n",
    "    prompt = f\"\"\"\n",
    "                You are a fake data generator of different types of insurance policy documents. You will be given examples\n",
    "                of some insurance documents, you should study the examples and generate similar fake data.\n",
    "                \n",
    "                The data generation is done in the following steps:\n",
    "        \n",
    "                Step 1: Study all the examples of insurance policy documents given below, each example is delimeted by '<(<'  '>)>' \n",
    "\n",
    "                Step 2: Generate a single fake insurance policy document that is similar to the examples but not identical to them.\n",
    "\n",
    "\n",
    "                Step 3: In each generated document, check if it contains the following information: \n",
    "                \n",
    "                                1. Insurance Company Name\n",
    "                                2. Policy holder name\n",
    "                                3. Broker information \n",
    "                                4. Policy number \n",
    "                                5. Type of insurance\n",
    "                                6. Contract start date\n",
    "                                7. Contract termination date \n",
    "\n",
    "               Step 4: If the information is found, extract it. If not found, just state \"not found\" \n",
    "\n",
    "               Step 5: The Output should be consist of the generated document as a string and the extracted information in a JSON format.\n",
    "               \n",
    "               \n",
    "                Examples: {text}\n",
    "\n",
    "              \"\"\"\n",
    "    return prompt\n"
   ]
  },
  {
   "cell_type": "code",
   "execution_count": null,
   "id": "8017365f",
   "metadata": {},
   "outputs": [],
   "source": [
    "def get_prompt_augment_1(text):\n",
    "    \n",
    "    prompt = f\"\"\"\n",
    "                You are a fake data generator of different types of insurance policy documents. You will be given examples\n",
    "                of some insurance documents, you should study the examples and generate a similar document but with \n",
    "                different infotmation.\n",
    "                \n",
    "                The data generation is done in the following steps:\n",
    "        \n",
    "                Step 1: Study the insurance policy document given, it is delimeted by '<(<, >)>'\n",
    "                \n",
    "                Step 2: Output the same document  and the same but change the details in the document and extracted information. \n",
    "               \n",
    "                Document: {text}\n",
    "\n",
    "              \"\"\"\n",
    "    return prompt\n"
   ]
  },
  {
   "cell_type": "code",
   "execution_count": null,
   "id": "8d7470d6",
   "metadata": {},
   "outputs": [],
   "source": [
    "def get_prompt_augment_2(text):\n",
    "    \n",
    "    prompt = f\"\"\"\n",
    "                You will be given some insurance policy documents in different languages, where the document is delimeted\n",
    "                by '<(<' '>)>':\n",
    "                \n",
    "                For each document:\n",
    "                \n",
    "                    1. Detect the language of the document. \n",
    "                    \n",
    "                    2. Translate it into  a different language that can be either Dutch, Spanish, or French\n",
    "                    \n",
    "                    3. Ouput the translated document along with it's extracted information \n",
    "               \n",
    "                Document: {text}\n",
    "\n",
    "              \"\"\"\n",
    "    return prompt"
   ]
  },
  {
   "cell_type": "code",
   "execution_count": null,
   "id": "d2812114",
   "metadata": {},
   "outputs": [],
   "source": [
    "path = '/Users/mariam/Desktop/KU Leuven Classes/Emergent_CP/policies/' #path to policy samples\n",
    "custom_config = r'--oem 3 --psm 6'\n",
    "files = os.listdir(path) #extract all files in the directory of the policy samples\n",
    "examples = []\n",
    "for file in files: #In each PDF file, extract the text in the pages and add them to list of examples. \n",
    "    pages = convert_from_path(path+file)\n",
    "    for page in pages: \n",
    "        \n",
    "        img = np.array(page)\n",
    "\n",
    "        gray_image = cv2.cvtColor(img, cv2.COLOR_BGR2GRAY)\n",
    "\n",
    "        threshold_img = cv2.threshold(gray_image, 0, 255, cv2.THRESH_BINARY | cv2.THRESH_OTSU)[1]\n",
    "\n",
    "        examples.append(pytesseract.image_to_string(img, config=custom_config, lang='eng'))\n",
    "\n",
    "\n"
   ]
  },
  {
   "cell_type": "code",
   "execution_count": null,
   "id": "0352b875",
   "metadata": {},
   "outputs": [],
   "source": [
    "data = [] #List where we store the generated fake data\n",
    "samples_log = [] #List where we add the examples used to generate the data, for troubleshooting purposes\n",
    "n=4 # number of samples we want "
   ]
  },
  {
   "cell_type": "code",
   "execution_count": null,
   "id": "5b1338eb",
   "metadata": {},
   "outputs": [],
   "source": [
    "\n",
    "n=4\n",
    "for i in range(40):\n",
    "\n",
    "\n",
    "    for i in range(n):\n",
    "        samples = random.sample(examples, 3) #randomly sample 3 examples \n",
    "        samples_log.append(samples) #add those example to a log to keep track of which samples where used to generate data.\n",
    "        train_samples = get_examples(samples) #Concatenate selected samples to a single series of text\n",
    "        prompt = get_prompt(train_samples) #Feed the samples to get the final prompt\n",
    "        data.append(get_completion(prompt)) #Give the prompt to ChatGPT\n",
    "    time.sleep(30)"
   ]
  },
  {
   "cell_type": "code",
   "execution_count": null,
   "id": "72e5cc14",
   "metadata": {},
   "outputs": [],
   "source": [
    "d = []\n",
    "for i in range(50):\n",
    "    document = random.sample(data[:221],1 )[0]\n",
    "    d.append(document)\n",
    "    prompt= get_prompt_augment_1('<(< \\n ' + document + '\\n >)>')\n",
    "    data.append(get_completion(prompt))\n",
    "   \n",
    "    if i%4==0:\n",
    "            time.sleep(30)"
   ]
  },
  {
   "cell_type": "code",
   "execution_count": null,
   "id": "5d621b1b",
   "metadata": {},
   "outputs": [],
   "source": [
    "t = []\n",
    "for i in range(50):\n",
    "    document = random.sample(data,1 )[0]\n",
    "    t.append(document)\n",
    "    prompt= get_prompt_augment_2('<(< \\n ' + document + '\\n >)>')\n",
    "    data.append(get_completion(prompt))\n",
    "   \n",
    "    if i%4==0:\n",
    "            time.sleep(30)"
   ]
  },
  {
   "cell_type": "code",
   "execution_count": null,
   "id": "360732e0",
   "metadata": {},
   "outputs": [],
   "source": [
    "\n",
    "with open(\"data\", \"wb\") as fp:   #Pickling\n",
    "    pickle.dump(data_split, fp)\n",
    "import pickle\n",
    "with open(\"data\", \"rb\") as fp:   # Unpickling\n",
    "     b = pickle.load(fp)"
   ]
  }
 ],
 "metadata": {
  "kernelspec": {
   "display_name": "Python 3 (ipykernel)",
   "language": "python",
   "name": "python3"
  },
  "language_info": {
   "codemirror_mode": {
    "name": "ipython",
    "version": 3
   },
   "file_extension": ".py",
   "mimetype": "text/x-python",
   "name": "python",
   "nbconvert_exporter": "python",
   "pygments_lexer": "ipython3",
   "version": "3.9.2"
  }
 },
 "nbformat": 4,
 "nbformat_minor": 5
}
